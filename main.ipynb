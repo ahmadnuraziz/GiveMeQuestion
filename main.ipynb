{
 "cells": [
  {
   "cell_type": "code",
   "execution_count": 45,
   "metadata": {},
   "outputs": [],
   "source": [
    "from bs4 import BeautifulSoup\n",
    "import urllib.request\n",
    "import csv\n",
    "import numpy as np\n",
    "\n",
    "class Questions:\n",
    "    def __init__(self):\n",
    "        pass\n",
    "    \n",
    "    def update_questions(self,topic='Physics',filename='Physics.txt'):\n",
    "        urlpage = 'https://www.quora.com/topic/'+topic\n",
    "        page = urllib.request.urlopen(urlpage)\n",
    "        soup = BeautifulSoup(page, 'html.parser')\n",
    "\n",
    "        get_question = soup.find_all('span',attrs={'class':\"ui_content_title ui_content_title--default ui_content_title--medium\"})\n",
    "        questions = []\n",
    "        for result in get_question:\n",
    "            with open(filename,'a+') as f:\n",
    "                f.write(\"%s\\r\\n\"%result.getText())\n",
    "                \n",
    "    def read_questions(self,topic='Physics',filename='Physics.txt'):\n",
    "        take_question = []\n",
    "        with open(filename,'r') as f:\n",
    "            for line in f:\n",
    "                take_question.append(line)\n",
    "                \n",
    "        one_question = str(take_question[np.random.randint(0,len(take_question))])\n",
    "        \n",
    "        return one_question\n",
    "        "
   ]
  },
  {
   "cell_type": "code",
   "execution_count": 46,
   "metadata": {},
   "outputs": [],
   "source": [
    "q = Questions()"
   ]
  },
  {
   "cell_type": "code",
   "execution_count": 47,
   "metadata": {},
   "outputs": [],
   "source": [
    "q.update_questions()"
   ]
  },
  {
   "cell_type": "code",
   "execution_count": 48,
   "metadata": {},
   "outputs": [
    {
     "data": {
      "text/plain": [
       "'How do I become as intelligent as Richard Feynman?\\n'"
      ]
     },
     "execution_count": 48,
     "metadata": {},
     "output_type": "execute_result"
    }
   ],
   "source": [
    "q.read_questions()"
   ]
  },
  {
   "cell_type": "code",
   "execution_count": 36,
   "metadata": {},
   "outputs": [
    {
     "name": "stdout",
     "output_type": "stream",
     "text": [
      "Did Albert Einstein steal the idea for the relativity theory? There are rumors that various scientists published the basic ideas of the relativity theory earlier and Einstein did not cite them at all in his publications. Is this true?\n",
      "\n"
     ]
    }
   ],
   "source": []
  },
  {
   "cell_type": "code",
   "execution_count": null,
   "metadata": {},
   "outputs": [],
   "source": []
  }
 ],
 "metadata": {
  "kernelspec": {
   "display_name": "Python 3",
   "language": "python",
   "name": "python3"
  },
  "language_info": {
   "codemirror_mode": {
    "name": "ipython",
    "version": 3
   },
   "file_extension": ".py",
   "mimetype": "text/x-python",
   "name": "python",
   "nbconvert_exporter": "python",
   "pygments_lexer": "ipython3",
   "version": "3.7.2"
  }
 },
 "nbformat": 4,
 "nbformat_minor": 2
}
